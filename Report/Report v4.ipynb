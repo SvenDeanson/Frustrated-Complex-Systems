{
 "cells": [
  {
   "cell_type": "markdown",
   "metadata": {},
   "source": [
    "# Optimizer and Coloring"
   ]
  },
  {
   "cell_type": "code",
   "execution_count": 7,
   "metadata": {},
   "outputs": [],
   "source": [
    "import time\n",
    "import random\n",
    "import numpy as np\n",
    "import pulp as plp\n",
    "from tqdm import tqdm\n",
    "import networkx as nx\n",
    "import matplotlib.pyplot as plt\n",
    "%matplotlib inline\n",
    "\n",
    "from gurobipy import *\n",
    "import multiprocessing\n",
    "\n",
    "def Model(weights, signed_matrix):\n",
    "\n",
    "    objectivevalue=[]\n",
    "    objs=[]\n",
    "    solveTime=[]\n",
    "    \n",
    "    index=0 \n",
    "    order=len(signed_matrix[index])\n",
    "\n",
    "    ###############################################################################################\n",
    "    opt_model = plp.LpProblem(name=\"Binary_Model\",sense = plp.LpMinimize)\n",
    "\n",
    "    x=[]\n",
    "    for i in range(0,order):\n",
    "        x.append(plp.LpVariable(lowBound=0,upBound=1, cat=plp.LpBinary, name='x'+str(i)))\n",
    "    z={}    \n",
    "    for (i,j) in (weights[index]):\n",
    "        z[(i,j)]=plp.LpVariable(lowBound=0,upBound=1, cat=plp.LpBinary, name='z'+str(i)+','+str(j))\n",
    "    ###############################################################################################\n",
    "    OFV = 0\n",
    "    for (i,j) in (weights[index]):\n",
    "        OFV += z[(i,j)]\n",
    "\n",
    "    opt_model.setObjective(OFV)\n",
    "\n",
    "    for (i,j) in (weights[index]):\n",
    "        opt_model.addConstraint( z[(i,j)] >= x[i] - ((weights[index])[(i,j)])*x[j] -\\\n",
    "                        (1-(weights[index])[(i,j)])/2)\n",
    "        opt_model.addConstraint( z[(i,j)] >= -x[i] + ((weights[index])[(i,j)])*x[j] +\\\n",
    "                        (1-(weights[index])[(i,j)])/2)   \n",
    "\n",
    "    ###############################################################################################\n",
    "    \n",
    "    start_time = time.time()\n",
    "    status = opt_model.solve(solver = plp.getSolver('GUROBI_CMD'))#'COIN_CMD'))\n",
    "    solveTime.append(time.time() - start_time) \n",
    "\n",
    "    ###############################################################################################\n",
    "\n",
    "    varsdict = {}\n",
    "    for v in opt_model.variables():\n",
    "        varsdict[v.name] = v.varValue    \n",
    "                    \n",
    "    return float(opt_model.objective.value()), varsdict\n",
    "\n",
    "def Prepare_Data(matrices):\n",
    "\n",
    "    signed_matrices=[]\n",
    "    unsigned_matrices=[]\n",
    "    weights = []\n",
    "    graphs=[]\n",
    "    for signed_matrix in matrices:\n",
    "\n",
    "        Graph=nx.from_numpy_matrix(signed_matrix)\n",
    "\n",
    "        mapping=dict(zip(Graph.nodes(),range(len(Graph.nodes()))))\n",
    "        Graph=nx.relabel_nodes(Graph,mapping) \n",
    "\n",
    "        graphs.append(Graph)\n",
    "\n",
    "        signed_matrix = nx.to_numpy_matrix(Graph)\n",
    "        unsigned_matrix = abs(signed_matrix)    \n",
    "\n",
    "        weighted_edges=nx.get_edge_attributes(Graph, 'weight') \n",
    "        w={}\n",
    "        for (u,v) in weighted_edges:\n",
    "            if u<v:\n",
    "                w[(u,v)] = weighted_edges[(u,v)]\n",
    "            if u>v:\n",
    "                w[(v,u)] = weighted_edges[(u,v)]\n",
    "\n",
    "        signed_matrices.append(signed_matrix)\n",
    "        unsigned_matrices.append(unsigned_matrix)\n",
    "        weights.append(w)\n",
    "\n",
    "    return graphs, weights, signed_matrices\n",
    "\n",
    "def color_nodes(G,variables):\n",
    "    \n",
    "    d = {}\n",
    "    for key, value in variables.items():\n",
    "        if \"x\" in key:\n",
    "            #print(key[1:],value)\n",
    "            d[int(key[1:])]=value\n",
    "\n",
    "    var = dict(sorted(d.items()))\n",
    "    \n",
    "    node_colors=[]\n",
    "    for key,value in var.items():\n",
    "        if value==1:\n",
    "            node_colors.append(\"Black\")\n",
    "        else:\n",
    "            node_colors.append(\"Silver\")\n",
    "            \n",
    "    attr = {}\n",
    "    for (node,value),color in zip(G.nodes.data(),node_colors):\n",
    "        #print(node,color)\n",
    "        attr[node]=color\n",
    "        \n",
    "    nx.set_node_attributes(G, attr, 'color')\n",
    "    \n",
    "    return G\n",
    "\n",
    "def Add_Weights(H,k):\n",
    "    \n",
    "    N = len(H.edges())\n",
    "\n",
    "    m=int(round(k*N))\n",
    "    n=int(round((1-k)*N))\n",
    "\n",
    "    a = np.ones(n+m)\n",
    "    a[:m] = -1\n",
    "    np.random.shuffle(a)\n",
    "    \n",
    "    dic={}\n",
    "    for e,value in zip(H.edges(),a):\n",
    "        dic[e] = value\n",
    "    \n",
    "    nx.set_edge_attributes(H, dic,'weight')\n",
    "    \n",
    "    return H"
   ]
  },
  {
   "cell_type": "markdown",
   "metadata": {},
   "source": [
    "# Creating Graphs"
   ]
  },
  {
   "cell_type": "code",
   "execution_count": 8,
   "metadata": {},
   "outputs": [],
   "source": [
    "def create_data(n,num):\n",
    "    \n",
    "    k = 0.5\n",
    "    \n",
    "    if num==1:\n",
    "        G = nx.grid_2d_graph(n,n)\n",
    "    if num==2:\n",
    "        G = nx.triangular_lattice_graph(n,n)\n",
    "    if num==3:\n",
    "        G= nx.path_graph(n)\n",
    "\n",
    "    N = len(G.nodes())\n",
    "    \n",
    "    m=int(round(k*N))\n",
    "    n=int(round((1-k)*N))\n",
    "\n",
    "    a = np.ones(N)\n",
    "    a[:m] = -1\n",
    "    np.random.shuffle(a)\n",
    "    \n",
    "    node_colors=[]\n",
    "    for i in a:\n",
    "        if i==1:\n",
    "            node_colors.append(\"Silver\")\n",
    "        else:\n",
    "            node_colors.append(\"Black\")\n",
    "\n",
    "    attr = {}\n",
    "    for (node,value),color in zip(G.nodes.data(),node_colors):\n",
    "        attr[node]=color\n",
    "\n",
    "    nx.set_node_attributes(G, attr, 'color')\n",
    "    \n",
    "    G = Add_Weights(G,1.0)\n",
    "    \n",
    "    \n",
    "    matrix = nx.to_numpy_matrix(G)\n",
    "    g, weights, signed_matrix = Prepare_Data([matrix])\n",
    "\n",
    "    fi,vr = Model(weights, signed_matrix)\n",
    "    #frustrations.append(fi)\n",
    "    G = color_nodes(G,vr)\n",
    "    \n",
    "    pos = nx.spring_layout(G, weight=None)\n",
    "    nx.set_node_attributes(G,pos,'pos')\n",
    "    \n",
    "\n",
    "    return G\n",
    "\n",
    "def Creation(n,choice):\n",
    "    k = 0.5\n",
    "    \n",
    "    if choice==1:\n",
    "        G = nx.grid_2d_graph(n,n)\n",
    "    if choice==2:\n",
    "        G = nx.triangular_lattice_graph(n,n)\n",
    "    if choice==3:\n",
    "        G= nx.path_graph(n)\n",
    "\n",
    "    N = len(G.nodes())\n",
    "    \n",
    "    m = random.randrange(0,N)\n",
    "    n = N-m\n",
    "\n",
    "    a = np.ones(N)\n",
    "    a[:m] = -1\n",
    "    np.random.shuffle(a)\n",
    "    \n",
    "    node_colors=[]\n",
    "    for i in a:\n",
    "        if i==1:\n",
    "            node_colors.append(\"Silver\")\n",
    "        else:\n",
    "            node_colors.append(\"Black\")\n",
    "\n",
    "    attr = {}\n",
    "    for (node,value),color in zip(G.nodes.data(),node_colors):\n",
    "        attr[node]=color\n",
    "\n",
    "    nx.set_node_attributes(G, attr, 'color')\n",
    "    \n",
    "    G = Add_Weights(G,1.0)\n",
    "    \n",
    "    pos = nx.spring_layout(G, weight=None)\n",
    "    nx.set_node_attributes(G,pos,'pos')\n",
    "    \n",
    "    return G"
   ]
  },
  {
   "cell_type": "markdown",
   "metadata": {},
   "source": [
    "## Plot"
   ]
  },
  {
   "cell_type": "code",
   "execution_count": 35,
   "metadata": {},
   "outputs": [],
   "source": [
    "def Plot2D(G,size=5):\n",
    "\n",
    "    H0 = G.copy()\n",
    "    pos =nx.get_node_attributes(H0,'pos')\n",
    "    node_colors=nx.get_node_attributes(H0,'color')\n",
    "\n",
    "    edge_colors = []\n",
    "    for n1,n2,val in H0.edges.data():\n",
    "\n",
    "        #print(n1,n2)\n",
    "        if H0.nodes[n1]['color']==H0.nodes[n2]['color']:\n",
    "\n",
    "            if H0.nodes[n1]['color'] ==H0.nodes[n2]['color'] == \"Black\":\n",
    "                edge_colors.append(\"red\")\n",
    "                #negative +=1\n",
    "            if H0.nodes[n1]['color'] ==H0.nodes[n2]['color'] == \"Silver\":\n",
    "                edge_colors.append(\"green\")\n",
    "                #positive +=1\n",
    "        else:\n",
    "                edge_colors.append(\"lightgrey\")\n",
    "\n",
    "    attr2 = {}\n",
    "    for edge,color in zip(H0.edges(),edge_colors):\n",
    "\n",
    "        #print(edge,color)\n",
    "        attr2[edge]=color\n",
    "\n",
    "    nx.set_edge_attributes(H0, attr2, 'edge_color')\n",
    "    \n",
    "    edge_colors=nx.get_edge_attributes(H0,'edge_color')\n",
    "\n",
    "    fig, ax = plt.subplots(figsize=(size,size))\n",
    "    nx.draw(H0,pos,node_size=50,edge_color=edge_colors.values(),node_color=node_colors.values(),with_labels=False)"
   ]
  },
  {
   "cell_type": "markdown",
   "metadata": {},
   "source": [
    "# Frustration Calculations "
   ]
  },
  {
   "cell_type": "code",
   "execution_count": 13,
   "metadata": {},
   "outputs": [],
   "source": [
    "def frustration_count(G):\n",
    "    s = 0\n",
    "    for n1,n2,val in G.edges.data():\n",
    "        if G.nodes[n1]['color']==G.nodes[n2]['color']:\n",
    "            s+=1\n",
    "    return s\n",
    "\n",
    "def color_of_frustration(H):\n",
    "    \n",
    "    positive=0\n",
    "    negative=0\n",
    "\n",
    "    for n1,n2,val in H.edges.data():\n",
    "        \n",
    "        G = H.copy() \n",
    "        color1 = G.nodes[n1]['color']\n",
    "        color2 = G.nodes[n2]['color']\n",
    "        #print(n1,n2,color1,color2)\n",
    "        #print(color1 == color2 or color2==color1)\n",
    "        if color1 == color2 or color2==color1:\n",
    "            #print(\"true\")\n",
    "            if color1 == color2 == \"Black\":\n",
    "                #print(\"\\tadd negative\")\n",
    "                negative +=1\n",
    "            if color1 == color2 == \"Silver\":\n",
    "                #print(\"\\tadd positive\")\n",
    "                positive +=1\n",
    "                \n",
    "    return positive,negative\n",
    "\n",
    "def calculate_delta(G):\n",
    "    \n",
    "    p,n = color_of_frustration(G)\n",
    "    #print(\"p=\",p,\"n=\",n)\n",
    "    \n",
    "    if p>n:\n",
    "        return int(np.sqrt((p-n)**2))\n",
    "    else:\n",
    "        return int(np.sqrt((n-p)**2))"
   ]
  },
  {
   "cell_type": "markdown",
   "metadata": {},
   "source": [
    "## Randomized Graph"
   ]
  },
  {
   "cell_type": "code",
   "execution_count": 29,
   "metadata": {
    "scrolled": false
   },
   "outputs": [
    {
     "name": "stdout",
     "output_type": "stream",
     "text": [
      "L = 165 f = 93 d = 33\n",
      "p = 63 n = 30\n"
     ]
    },
    {
     "data": {
      "image/png": "[encoded data removed]",
      "text/plain": [
       "<Figure size 720x720 with 1 Axes>"
      ]
     },
     "metadata": {},
     "output_type": "display_data"
    }
   ],
   "source": [
    "G = Creation(10,2)\n",
    "\n",
    "Plot2D(G,10)\n",
    "\n",
    "L = len(G.edges())\n",
    "\n",
    "print(\"L =\",L,\"f =\",frustration_count(G),\"d =\",calculate_delta(G))\n",
    "\n",
    "p,n = color_of_frustration(G)\n",
    "\n",
    "print(\"p =\",p,\"n =\",n)"
   ]
  },
  {
   "cell_type": "markdown",
   "metadata": {},
   "source": [
    "##  Minimum Frustration"
   ]
  },
  {
   "cell_type": "code",
   "execution_count": 34,
   "metadata": {
    "scrolled": false
   },
   "outputs": [
    {
     "name": "stdout",
     "output_type": "stream",
     "text": [
      "L = 165 f = 50 d = 10\n",
      "p = 30 n = 20\n"
     ]
    },
    {
     "data": {
      "image/png": "[encoded data removed]",
      "text/plain": [
       "<Figure size 720x720 with 1 Axes>"
      ]
     },
     "metadata": {},
     "output_type": "display_data"
    }
   ],
   "source": [
    "G = create_data(10,2)\n",
    "\n",
    "Plot2D(G,10)\n",
    "\n",
    "L = len(G.edges())\n",
    "\n",
    "print(\"L =\",L,\"f =\",frustration_count(G),\"d =\",calculate_delta(G))\n",
    "\n",
    "p,n = color_of_frustration(G)\n",
    "\n",
    "print(\"p =\",p,\"n =\",n)"
   ]
  },
  {
   "cell_type": "markdown",
   "metadata": {},
   "source": [
    "# Simulated Annealing for targeting Delta"
   ]
  },
  {
   "cell_type": "code",
   "execution_count": 40,
   "metadata": {},
   "outputs": [],
   "source": [
    "import random\n",
    "import math\n",
    "from random import choice\n",
    "from random import sample\n",
    "import numpy.random as rn\n",
    "\n",
    "from sklearn.metrics import mean_squared_error\n",
    "\n",
    "def random_neighbour(G):\n",
    " \n",
    "    H = G.copy()\n",
    "    \n",
    "    random_node = sample(H.nodes(),1)[0]\n",
    "    \n",
    "    chosen_color = H.nodes[random_node]['color']\n",
    "    if chosen_color == \"Silver\":\n",
    "        H.nodes[random_node]['color'] = \"Black\"\n",
    "    else:\n",
    "        H.nodes[random_node]['color'] = \"Silver\"\n",
    "    \n",
    "    return H\n",
    "\n",
    "def target_delta(state, target):\n",
    "    \n",
    "    new = calculate_delta(state)\n",
    "    \n",
    "    mse = np.abs(target-new)\n",
    "\n",
    "    return mse\n",
    "\n",
    "def acceptance_probability(cost, new_cost, temperature):\n",
    "    if new_cost < cost:\n",
    "        return 1\n",
    "    else:\n",
    "        p = np.exp(- (new_cost - cost) / temperature)\n",
    "        return p\n",
    "\n",
    "def temperature(fraction):\n",
    "    \n",
    "    value = max(0.01, min(1, 1 - fraction))\n",
    "    return value\n",
    "\n",
    "def Annealing(G0,target, maxsteps=1000):\n",
    "\n",
    "    \n",
    "    state = G0.copy()\n",
    "    cost_funct = target_delta\n",
    "    \n",
    "    cost = cost_funct(state,target)\n",
    "    \n",
    "    if cost == 0:\n",
    "        return state\n",
    "    \n",
    "    for step in range(maxsteps):\n",
    "        \n",
    "        fraction = step / float(maxsteps)\n",
    "        T = temperature(fraction)\n",
    "        \n",
    "        new_state = random_neighbour(state)\n",
    "        \n",
    "        new_cost = cost_funct(new_state,target)\n",
    "        \n",
    "        if acceptance_probability(cost, new_cost, T) > rn.random():\n",
    "            \n",
    "            state, cost = new_state, new_cost\n",
    "            if cost == 0:\n",
    "                return state    \n",
    "    return state"
   ]
  },
  {
   "cell_type": "markdown",
   "metadata": {},
   "source": [
    "# Quenching Function"
   ]
  },
  {
   "cell_type": "code",
   "execution_count": 41,
   "metadata": {},
   "outputs": [],
   "source": [
    "def Quench_Process(Gs):\n",
    "\n",
    "    total=[]\n",
    "    Delta = []\n",
    "    for i in tqdm(range(len(Gs))):\n",
    "        \n",
    "        H = Gs[i].copy()\n",
    "        \n",
    "        res=[]\n",
    "        res.append(frustration_count(H))\n",
    "        deltas = []\n",
    "        deltas.append(calculate_delta(H))\n",
    "        \n",
    "        G = H.copy()\n",
    "        for k in range(1,500):\n",
    "            \n",
    "            nx.algorithms.connected_double_edge_swap(G, nswap=1)\n",
    "            \n",
    "            fr = frustration_count(G)\n",
    "            res.append(fr)\n",
    "            deltas.append(calculate_delta(G))\n",
    "\n",
    "        total.append(res) \n",
    "        Delta.append(deltas)\n",
    "        \n",
    "    return np.array(total),np.array(Delta)\n",
    "\n",
    "def Get_Probabilites(data,Edge,repeat):\n",
    "\n",
    "    p_t=[]\n",
    "    for t in range(len(data[0])):\n",
    "\n",
    "        prob=[]\n",
    "        for i in range(0,Edge):\n",
    "            prob.append(np.count_nonzero(np.array(data[:,t]) == i))\n",
    "        p_t.append(np.array(prob)/repeat)\n",
    "\n",
    "    P_t = np.array(p_t)\n",
    "\n",
    "    p_even=[]\n",
    "    for l in P_t:\n",
    "        p_even.append(l[::2])\n",
    "\n",
    "    P_even = np.array(p_even)\n",
    "\n",
    "    return P_t,P_even\n",
    "\n",
    "def Get_Means(data):\n",
    "    \n",
    "    total = np.array(data)\n",
    "    final = []\n",
    "    for i in range(0,len(total[0])):\n",
    "        final.append((np.mean(total[:,i]),np.std(total[:,i])))\n",
    "\n",
    "    return np.array(final)"
   ]
  },
  {
   "cell_type": "markdown",
   "metadata": {},
   "source": [
    "# Testing"
   ]
  },
  {
   "cell_type": "code",
   "execution_count": 66,
   "metadata": {},
   "outputs": [],
   "source": [
    "def Quench(G0):\n",
    "    \n",
    "\n",
    "    total=[]\n",
    "    \n",
    "    #d0 = calculate_delta(G0)\n",
    "    for i in tqdm(range(1000)):\n",
    "        \n",
    "        H = G0.copy()\n",
    "        \n",
    "        res=[]\n",
    "        res.append(frustration_count(H))\n",
    "        \n",
    "        G = H.copy()\n",
    "        for k in (range(1,1000)):\n",
    "            \n",
    "            nx.algorithms.connected_double_edge_swap(G, nswap=1)\n",
    "\n",
    "            res.append(frustration_count(G))\n",
    "            \n",
    "            \"\"\"\n",
    "            d = calculate_delta(G)\n",
    "            if d != d0:\n",
    "                print(\"Delta changed!\")\n",
    "                return 0\n",
    "            \"\"\"\n",
    "            \n",
    "        total.append(res) \n",
    "        \n",
    "    return np.array(total)"
   ]
  },
  {
   "cell_type": "code",
   "execution_count": 68,
   "metadata": {},
   "outputs": [
    {
     "name": "stdout",
     "output_type": "stream",
     "text": [
      "Target =  20\n",
      "L = 40 f = 28 d = 20\n",
      "\n",
      "t =  0.00606226921081543 \n",
      "\n",
      "L = 40 f = 28 d = 20\n"
     ]
    },
    {
     "data": {
      "image/png": "[encoded data removed]",
      "text/plain": [
       "<Figure size 360x360 with 1 Axes>"
      ]
     },
     "metadata": {},
     "output_type": "display_data"
    },
    {
     "data": {
      "image/png": "[encoded data removed]",
      "text/plain": [
       "<Figure size 360x360 with 1 Axes>"
      ]
     },
     "metadata": {},
     "output_type": "display_data"
    }
   ],
   "source": [
    "import time\n",
    "\n",
    "G0 = Creation(5,1)\n",
    "L = len(G0.edges())\n",
    "target = int(L/2) \n",
    "\n",
    "d0 = calculate_delta(G0)\n",
    "print(\"Target = \",target)\n",
    "print(\"L =\",L,\"f =\",frustration_count(G0),\"d =\",d0)\n",
    "\n",
    "Plot2D(G0,5)\n",
    "\n",
    "##########################################\n",
    "start_time = time.time()\n",
    "G = Annealing( G0, target, maxsteps=500)\n",
    "print(\"\\nt = \",time.time() - start_time,\"\\n\") \n",
    "##########################################\n",
    "\n",
    "print(\"L =\",L,\"f =\",frustration_count(G),\"d =\",calculate_delta(G))\n",
    "\n",
    "Plot2D(G,5)"
   ]
  },
  {
   "cell_type": "code",
   "execution_count": 69,
   "metadata": {},
   "outputs": [
    {
     "name": "stderr",
     "output_type": "stream",
     "text": [
      "100%|██████████| 1000/1000 [02:52<00:00,  5.81it/s]\n"
     ]
    }
   ],
   "source": [
    "data = Quench(G)\n",
    "\n",
    "P_t,P_even = Get_Probabilites(data,L,1000)\n",
    "\n",
    "Means  = Get_Means(data)"
   ]
  },
  {
   "cell_type": "code",
   "execution_count": 70,
   "metadata": {},
   "outputs": [],
   "source": [
    "edge = L\n",
    "\n",
    "from sympy import *\n",
    "f0 = 28\n",
    "\n",
    "t = symbols('t')\n",
    "x = symbols('x', cls=Function)\n",
    "L = symbols('L', real=True)\n",
    "d = symbols('d', real=True)\n",
    "\n",
    "gsol = dsolve(x(t).diff(t) - ((1 - 2*L)*x(t) + L*(L - 1) + d**2)/(L*(L - 1)), x(t),ics={x(0): f0})\n",
    "\n",
    "l=edge\n",
    "k=20\n",
    "sol = gsol.subs({L: l,d:k})\n",
    "lmbd_sol = lambdify(t, sol.rhs)"
   ]
  },
  {
   "cell_type": "code",
   "execution_count": 71,
   "metadata": {},
   "outputs": [],
   "source": [
    "data1 = P_t\n",
    "data2 = P_even\n",
    "data3 = Means"
   ]
  },
  {
   "cell_type": "code",
   "execution_count": 73,
   "metadata": {},
   "outputs": [],
   "source": [
    "import random\n",
    "import matplotlib\n",
    "import tkinter as Tk\n",
    "import matplotlib.pyplot as plt\n",
    "from matplotlib.widgets import Slider\n",
    "from matplotlib.widgets import TextBox\n",
    "from matplotlib.backends.backend_tkagg import FigureCanvasTkAgg\n",
    "\n",
    "matplotlib.use('TkAgg')\n",
    "\n",
    "root = Tk.Tk()\n",
    "root.wm_title(\"Embedding in TK\")\n",
    "fig = plt.Figure(figsize=(10,5))\n",
    "canvas = FigureCanvasTkAgg(fig, root)\n",
    "canvas.get_tk_widget().pack(side=Tk.TOP, fill=Tk.BOTH, expand=1)\n",
    "\n",
    "\n",
    "###############################################\n",
    "\n",
    "ax=fig.add_subplot(121)\n",
    "fig.subplots_adjust(bottom=0.25)\n",
    "\n",
    "fig.suptitle('L='+str(l)+', d='+str(k), fontsize=16)\n",
    "\n",
    "t=0\n",
    "l11, = ax.plot([i for i in range(len(data1[t]))], data1[t])\n",
    "l12, = ax.plot([i*2 for i in range(len(data2[t]))], data2[t], lw=2)\n",
    "line = ax.axvline(x=data3[t,0],linestyle=\"--\",color=\"green\")\n",
    "ax.set_ylim(0,1)\n",
    "\n",
    "ax.set_xlabel(\"f\")\n",
    "ax.set_ylabel(\"P(f)\")\n",
    "ax.grid()\n",
    "\n",
    "###############################################\n",
    "ax_time = fig.add_axes([0.12, 0.1, 0.78, 0.03])\n",
    "s_time = Slider(ax_time, 'Time', 0, 999, valinit=0)\n",
    "\n",
    "tekstić = ax.text(0.05, 0.95, s_time.val, transform=ax.transAxes, fontsize=14,\n",
    "        verticalalignment='top')\n",
    "###############################################\n",
    "\n",
    "ax2=fig.add_subplot(122)\n",
    "\n",
    "ax2.errorbar([i for i in range(len(data3[:,0]))],data3[:,0],data3[:,1],alpha=0.1,color=\"blue\")\n",
    "ax2.plot([i for i in range(len(data3[:,0]))],data3[:,0],color=\"blue\")\n",
    "line2 = ax2.axvline(x=t,linestyle=\"-\",color=\"red\")\n",
    "line3 = ax2.axhline(y=data3[t,0],linestyle=\"-\",color=\"red\")\n",
    "\n",
    "xs = np.linspace(0,999,999)\n",
    "ax2.plot(xs,lmbd_sol(xs),linestyle=\"--\",color=\"green\")\n",
    "\n",
    "\n",
    "ax2.set_xlabel(\"t\")\n",
    "ax2.set_ylabel(\"f(t)\")\n",
    "ax2.set_ylim(0,edge)\n",
    "ax2.grid()\n",
    "\n",
    "\n",
    "###############################################\n",
    "\n",
    "def update(val):\n",
    "\n",
    "    value = int(s_time.val)\n",
    "\n",
    "    l11.set_ydata(data1[value])\n",
    "    l12.set_ydata(data2[value])\n",
    "    line.set_xdata(data3[value,0])\n",
    "    \n",
    "    tekstić.set_text(\"t=\"+str(value)+\", E[f]=\"+str(data3[value,0]))#+\"-> \"+str(np.round(lmbd_sol(value),2)))\n",
    "\n",
    "    line2.set_xdata(value)\n",
    "    line3.set_ydata(data3[value,0])\n",
    "    \n",
    "    fig.canvas.draw_idle()\n",
    "\n",
    "from tkinter import Button\n",
    "Button(root, text=\"Quit\", command=root.destroy).pack()\n",
    "    \n",
    "    \n",
    "s_time.on_changed(update)\n",
    "\n",
    "Tk.mainloop()"
   ]
  },
  {
   "cell_type": "code",
   "execution_count": 84,
   "metadata": {},
   "outputs": [
    {
     "name": "stdout",
     "output_type": "stream",
     "text": [
      "0.19453554288107636\n"
     ]
    }
   ],
   "source": [
    "from sklearn.metrics import mean_squared_error\n",
    "\n",
    "\n",
    "xs = np.linspace(0,1000,1000)\n",
    "y_predicted= lmbd_sol(xs)\n",
    "y_actual= data3[:,0]\n",
    "\n",
    "err = mean_squared_error(y_actual, y_predicted)\n",
    "\n",
    "print(err)"
   ]
  },
  {
   "cell_type": "markdown",
   "metadata": {},
   "source": [
    "# importing previously calculated values "
   ]
  },
  {
   "cell_type": "code",
   "execution_count": 110,
   "metadata": {},
   "outputs": [],
   "source": [
    "def analytical(L,f0,d0):\n",
    "\n",
    "    edge = L\n",
    "\n",
    "    f0 = f0\n",
    "\n",
    "    t = symbols('t')\n",
    "    x = symbols('x', cls=Function)\n",
    "    L = symbols('L', real=True)\n",
    "    d = symbols('d', real=True)\n",
    "\n",
    "    gsol = dsolve(x(t).diff(t) - ((1 - 2*L)*x(t) + L*(L - 1) + d**2)/(L*(L - 1)), x(t),ics={x(0): f0})\n",
    "\n",
    "    l=edge\n",
    "    k=d0\n",
    "    sol = gsol.subs({L: l,d:k})\n",
    "    lmbd_sol = lambdify(t, sol.rhs)\n",
    "    \n",
    "    return lmbd_sol\n"
   ]
  },
  {
   "cell_type": "code",
   "execution_count": 124,
   "metadata": {},
   "outputs": [],
   "source": [
    "from sympy import *\n",
    "\n",
    "\n",
    "import random\n",
    "import matplotlib\n",
    "import tkinter as Tk\n",
    "import matplotlib.pyplot as plt\n",
    "from matplotlib.widgets import Slider\n",
    "from matplotlib.widgets import TextBox\n",
    "from matplotlib.backends.backend_tkagg import FigureCanvasTkAgg\n",
    "\n",
    "def Tkinter_Plot(data1,data2,data3,L,f0,d0):\n",
    "    \n",
    "    lmbd_sol = analytical(L,f0,d0)\n",
    "\n",
    "\n",
    "    matplotlib.use('TkAgg')\n",
    "\n",
    "    root = Tk.Tk()\n",
    "    root.wm_title(\"Embedding in TK\")\n",
    "    fig = plt.Figure(figsize=(10,5))\n",
    "    canvas = FigureCanvasTkAgg(fig, root)\n",
    "    canvas.get_tk_widget().pack(side=Tk.TOP, fill=Tk.BOTH, expand=1)\n",
    "\n",
    "\n",
    "    ###############################################\n",
    "\n",
    "    ax=fig.add_subplot(121)\n",
    "    fig.subplots_adjust(bottom=0.25)\n",
    "\n",
    "    fig.suptitle('L='+str(L)+', d='+str(d0), fontsize=16)\n",
    "\n",
    "    t=0\n",
    "    l11, = ax.plot([i for i in range(len(data1[t]))], data1[t])\n",
    "    l12, = ax.plot([i*2 for i in range(len(data2[t]))], data2[t], lw=2)\n",
    "    line = ax.axvline(x=data3[t,0],linestyle=\"--\",color=\"green\")\n",
    "    ax.set_ylim(0,1)\n",
    "\n",
    "    ax.set_xlabel(\"f\")\n",
    "    ax.set_ylabel(\"P(f)\")\n",
    "    ax.grid()\n",
    "\n",
    "    ###############################################\n",
    "    ax_time = fig.add_axes([0.12, 0.1, 0.78, 0.03])\n",
    "    s_time = Slider(ax_time, 'Time', 0, len(data1)-1, valinit=0)\n",
    "\n",
    "    tekstić = ax.text(0.05, 0.95, s_time.val, transform=ax.transAxes, fontsize=14,\n",
    "            verticalalignment='top')\n",
    "    ###############################################\n",
    "\n",
    "    ax2=fig.add_subplot(122)\n",
    "\n",
    "    ax2.errorbar([i for i in range(len(data3[:,0]))],data3[:,0],data3[:,1],alpha=0.1,color=\"blue\")\n",
    "    ax2.plot([i for i in range(len(data3[:,0]))],data3[:,0],color=\"blue\")\n",
    "    line2 = ax2.axvline(x=t,linestyle=\"-\",color=\"red\")\n",
    "    line3 = ax2.axhline(y=data3[t,0],linestyle=\"-\",color=\"red\")\n",
    "\n",
    "    xs = np.linspace(0,len(data1),len(data1))\n",
    "    ax2.plot(xs,lmbd_sol(xs),linestyle=\"--\",color=\"green\")\n",
    "\n",
    "\n",
    "    ax2.set_xlabel(\"t\")\n",
    "    ax2.set_ylabel(\"f(t)\")\n",
    "    ax2.set_ylim(0,L)\n",
    "    ax2.grid()\n",
    "\n",
    "\n",
    "    ###############################################\n",
    "\n",
    "    def update(val):\n",
    "\n",
    "        value = int(s_time.val)\n",
    "\n",
    "        l11.set_ydata(data1[value])\n",
    "        l12.set_ydata(data2[value])\n",
    "        line.set_xdata(data3[value,0])\n",
    "\n",
    "        tekstić.set_text(\"t=\"+str(value)+\", E[f]=\"+str(data3[value,0]))#+\"-> \"+str(np.round(lmbd_sol(value),2)))\n",
    "\n",
    "        line2.set_xdata(value)\n",
    "        line3.set_ydata(data3[value,0])\n",
    "\n",
    "        fig.canvas.draw_idle()\n",
    "\n",
    "    from tkinter import Button\n",
    "    Button(root, text=\"Quit\", command=root.destroy).pack()\n",
    "\n",
    "\n",
    "    s_time.on_changed(update)\n",
    "\n",
    "    Tk.mainloop()"
   ]
  },
  {
   "cell_type": "markdown",
   "metadata": {},
   "source": [
    "### L = 180, f = 0, d = 0"
   ]
  },
  {
   "cell_type": "code",
   "execution_count": 128,
   "metadata": {},
   "outputs": [],
   "source": [
    "from sklearn.metrics import mean_squared_error\n",
    "\n",
    "errors = []"
   ]
  },
  {
   "cell_type": "code",
   "execution_count": 129,
   "metadata": {},
   "outputs": [],
   "source": [
    "L = 180\n",
    "f0 = 0\n",
    "d0 = 0\n",
    "\n",
    "data1 = np.load(\"L180F0D0_1.npy\")\n",
    "data2 = np.load(\"L180F0D0_2.npy\")\n",
    "data3 = np.load(\"L180F0D0_3.npy\")\n",
    "\n",
    "Tkinter_Plot(data1,data2,data3,L,f0,d0)\n",
    "\n",
    "lmbd_sol = analytical(L,f0,d0)\n",
    "    \n",
    "xs = np.linspace(0,1000,1000)\n",
    "y_predicted= lmbd_sol(xs)\n",
    "y_actual= data3[:,0]\n",
    "\n",
    "err = mean_squared_error(y_actual, y_predicted)\n",
    "errors.append(err)"
   ]
  },
  {
   "cell_type": "markdown",
   "metadata": {},
   "source": [
    "### L = 165, f = 50, d = 10"
   ]
  },
  {
   "cell_type": "code",
   "execution_count": 130,
   "metadata": {},
   "outputs": [],
   "source": [
    "L = 165\n",
    "f0 = 50\n",
    "d0 = 10\n",
    "\n",
    "data1 = np.load(\"L165F50D10_1.npy\")\n",
    "data2 = np.load(\"L165F50D10_2.npy\")\n",
    "data3 = np.load(\"L165F50D10_3.npy\")\n",
    "\n",
    "Tkinter_Plot(data1,data2,data3,L,f0,d0)\n",
    "\n",
    "lmbd_sol = analytical(L,f0,d0)\n",
    "    \n",
    "xs = np.linspace(0,1000,1000)\n",
    "y_predicted= lmbd_sol(xs)\n",
    "y_actual= data3[:,0]\n",
    "\n",
    "err = mean_squared_error(y_actual, y_predicted)\n",
    "errors.append(err)"
   ]
  },
  {
   "cell_type": "markdown",
   "metadata": {},
   "source": [
    "### L = 630, f = 200, d = 0"
   ]
  },
  {
   "cell_type": "code",
   "execution_count": 131,
   "metadata": {},
   "outputs": [],
   "source": [
    "L = 630\n",
    "f0 = 200\n",
    "d0 = 0\n",
    "\n",
    "data1 = np.load(\"L630F200D0_1.npy\")\n",
    "data2 = np.load(\"L630F200D0_2.npy\")\n",
    "data3 = np.load(\"L630F200D0_3.npy\")\n",
    "\n",
    "Tkinter_Plot(data1,data2,data3,L,f0,d0)\n",
    "\n",
    "lmbd_sol = analytical(L,f0,d0)\n",
    "    \n",
    "xs = np.linspace(0,1000,1000)\n",
    "y_predicted= lmbd_sol(xs)\n",
    "y_actual= data3[:,0]\n",
    "\n",
    "err = mean_squared_error(y_actual, y_predicted)\n",
    "errors.append(err)"
   ]
  },
  {
   "cell_type": "markdown",
   "metadata": {},
   "source": [
    "### L = 630, f = 322, d = 50"
   ]
  },
  {
   "cell_type": "code",
   "execution_count": 132,
   "metadata": {},
   "outputs": [],
   "source": [
    "L = 630\n",
    "f0 = 322\n",
    "d0 = 50\n",
    "\n",
    "\n",
    "data1 = np.load(\"L630F322D50_1.npy\")\n",
    "data2 = np.load(\"L630F322D50_2.npy\")\n",
    "data3 = np.load(\"L630F322D50_3.npy\")\n",
    "\n",
    "Tkinter_Plot(data1,data2,data3,L,f0,d0)\n",
    "\n",
    "lmbd_sol = analytical(L,f0,d0)\n",
    "    \n",
    "xs = np.linspace(0,1000,1000)\n",
    "y_predicted= lmbd_sol(xs)\n",
    "y_actual= data3[:,0]\n",
    "\n",
    "err = mean_squared_error(y_actual, y_predicted)\n",
    "errors.append(err)"
   ]
  },
  {
   "cell_type": "code",
   "execution_count": 133,
   "metadata": {},
   "outputs": [
    {
     "data": {
      "text/plain": [
       "[0.6420647210263773,\n",
       " 1.1250210479454075,\n",
       " 2.1575429903432313,\n",
       " 1.3579906506218897]"
      ]
     },
     "execution_count": 133,
     "metadata": {},
     "output_type": "execute_result"
    }
   ],
   "source": [
    "errors"
   ]
  },
  {
   "cell_type": "code",
   "execution_count": 137,
   "metadata": {},
   "outputs": [
    {
     "data": {
      "image/png": "[encoded data removed]",
      "text/plain": [
       "<Figure size 432x432 with 1 Axes>"
      ]
     },
     "metadata": {
      "needs_background": "light"
     },
     "output_type": "display_data"
    }
   ],
   "source": [
    "%matplotlib inline\n",
    "\n",
    "fig, ax = plt.subplots(figsize=[6,6])\n",
    "\n",
    "ax.scatter([180,165,630,630],errors)\n",
    "ax.grid()\n",
    "plt.show()"
   ]
  },
  {
   "cell_type": "code",
   "execution_count": 140,
   "metadata": {},
   "outputs": [
    {
     "data": {
      "application/vnd.plotly.v1+json": {
       "config": {
        "plotlyServerURL": "https://plot.ly"
       },
       "data": [
        {
         "mode": "markers",
         "type": "scatter3d",
         "x": [
          180,
          165,
          630,
          630
         ],
         "y": [
          0,
          10,
          0,
          50
         ],
         "z": [
          0.6420647210263773,
          1.1250210479454075,
          2.1575429903432313,
          1.3579906506218897
         ]
        }
       ],
       "layout": {
        "template": {
         "data": {
          "bar": [
           {
            "error_x": {
             "color": "#2a3f5f"
            },
            "error_y": {
             "color": "#2a3f5f"
            },
            "marker": {
             "line": {
              "color": "#E5ECF6",
              "width": 0.5
             },
             "pattern": {
              "fillmode": "overlay",
              "size": 10,
              "solidity": 0.2
             }
            },
            "type": "bar"
           }
          ],
          "barpolar": [
           {
            "marker": {
             "line": {
              "color": "#E5ECF6",
              "width": 0.5
             },
             "pattern": {
              "fillmode": "overlay",
              "size": 10,
              "solidity": 0.2
             }
            },
            "type": "barpolar"
           }
          ],
          "carpet": [
           {
            "aaxis": {
             "endlinecolor": "#2a3f5f",
             "gridcolor": "white",
             "linecolor": "white",
             "minorgridcolor": "white",
             "startlinecolor": "#2a3f5f"
            },
            "baxis": {
             "endlinecolor": "#2a3f5f",
             "gridcolor": "white",
             "linecolor": "white",
             "minorgridcolor": "white",
             "startlinecolor": "#2a3f5f"
            },
            "type": "carpet"
           }
          ],
          "choropleth": [
           {
            "colorbar": {
             "outlinewidth": 0,
             "ticks": ""
            },
            "type": "choropleth"
           }
          ],
          "contour": [
           {
            "colorbar": {
             "outlinewidth": 0,
             "ticks": ""
            },
            "colorscale": [
             [
              0,
              "#0d0887"
             ],
             [
              0.1111111111111111,
              "#46039f"
             ],
             [
              0.2222222222222222,
              "#7201a8"
             ],
             [
              0.3333333333333333,
              "#9c179e"
             ],
             [
              0.4444444444444444,
              "#bd3786"
             ],
             [
              0.5555555555555556,
              "#d8576b"
             ],
             [
              0.6666666666666666,
              "#ed7953"
             ],
             [
              0.7777777777777778,
              "#fb9f3a"
             ],
             [
              0.8888888888888888,
              "#fdca26"
             ],
             [
              1,
              "#f0f921"
             ]
            ],
            "type": "contour"
           }
          ],
          "contourcarpet": [
           {
            "colorbar": {
             "outlinewidth": 0,
             "ticks": ""
            },
            "type": "contourcarpet"
           }
          ],
          "heatmap": [
           {
            "colorbar": {
             "outlinewidth": 0,
             "ticks": ""
            },
            "colorscale": [
             [
              0,
              "#0d0887"
             ],
             [
              0.1111111111111111,
              "#46039f"
             ],
             [
              0.2222222222222222,
              "#7201a8"
             ],
             [
              0.3333333333333333,
              "#9c179e"
             ],
             [
              0.4444444444444444,
              "#bd3786"
             ],
             [
              0.5555555555555556,
              "#d8576b"
             ],
             [
              0.6666666666666666,
              "#ed7953"
             ],
             [
              0.7777777777777778,
              "#fb9f3a"
             ],
             [
              0.8888888888888888,
              "#fdca26"
             ],
             [
              1,
              "#f0f921"
             ]
            ],
            "type": "heatmap"
           }
          ],
          "heatmapgl": [
           {
            "colorbar": {
             "outlinewidth": 0,
             "ticks": ""
            },
            "colorscale": [
             [
              0,
              "#0d0887"
             ],
             [
              0.1111111111111111,
              "#46039f"
             ],
             [
              0.2222222222222222,
              "#7201a8"
             ],
             [
              0.3333333333333333,
              "#9c179e"
             ],
             [
              0.4444444444444444,
              "#bd3786"
             ],
             [
              0.5555555555555556,
              "#d8576b"
             ],
             [
              0.6666666666666666,
              "#ed7953"
             ],
             [
              0.7777777777777778,
              "#fb9f3a"
             ],
             [
              0.8888888888888888,
              "#fdca26"
             ],
             [
              1,
              "#f0f921"
             ]
            ],
            "type": "heatmapgl"
           }
          ],
          "histogram": [
           {
            "marker": {
             "pattern": {
              "fillmode": "overlay",
              "size": 10,
              "solidity": 0.2
             }
            },
            "type": "histogram"
           }
          ],
          "histogram2d": [
           {
            "colorbar": {
             "outlinewidth": 0,
             "ticks": ""
            },
            "colorscale": [
             [
              0,
              "#0d0887"
             ],
             [
              0.1111111111111111,
              "#46039f"
             ],
             [
              0.2222222222222222,
              "#7201a8"
             ],
             [
              0.3333333333333333,
              "#9c179e"
             ],
             [
              0.4444444444444444,
              "#bd3786"
             ],
             [
              0.5555555555555556,
              "#d8576b"
             ],
             [
              0.6666666666666666,
              "#ed7953"
             ],
             [
              0.7777777777777778,
              "#fb9f3a"
             ],
             [
              0.8888888888888888,
              "#fdca26"
             ],
             [
              1,
              "#f0f921"
             ]
            ],
            "type": "histogram2d"
           }
          ],
          "histogram2dcontour": [
           {
            "colorbar": {
             "outlinewidth": 0,
             "ticks": ""
            },
            "colorscale": [
             [
              0,
              "#0d0887"
             ],
             [
              0.1111111111111111,
              "#46039f"
             ],
             [
              0.2222222222222222,
              "#7201a8"
             ],
             [
              0.3333333333333333,
              "#9c179e"
             ],
             [
              0.4444444444444444,
              "#bd3786"
             ],
             [
              0.5555555555555556,
              "#d8576b"
             ],
             [
              0.6666666666666666,
              "#ed7953"
             ],
             [
              0.7777777777777778,
              "#fb9f3a"
             ],
             [
              0.8888888888888888,
              "#fdca26"
             ],
             [
              1,
              "#f0f921"
             ]
            ],
            "type": "histogram2dcontour"
           }
          ],
          "mesh3d": [
           {
            "colorbar": {
             "outlinewidth": 0,
             "ticks": ""
            },
            "type": "mesh3d"
           }
          ],
          "parcoords": [
           {
            "line": {
             "colorbar": {
              "outlinewidth": 0,
              "ticks": ""
             }
            },
            "type": "parcoords"
           }
          ],
          "pie": [
           {
            "automargin": true,
            "type": "pie"
           }
          ],
          "scatter": [
           {
            "marker": {
             "colorbar": {
              "outlinewidth": 0,
              "ticks": ""
             }
            },
            "type": "scatter"
           }
          ],
          "scatter3d": [
           {
            "line": {
             "colorbar": {
              "outlinewidth": 0,
              "ticks": ""
             }
            },
            "marker": {
             "colorbar": {
              "outlinewidth": 0,
              "ticks": ""
             }
            },
            "type": "scatter3d"
           }
          ],
          "scattercarpet": [
           {
            "marker": {
             "colorbar": {
              "outlinewidth": 0,
              "ticks": ""
             }
            },
            "type": "scattercarpet"
           }
          ],
          "scattergeo": [
           {
            "marker": {
             "colorbar": {
              "outlinewidth": 0,
              "ticks": ""
             }
            },
            "type": "scattergeo"
           }
          ],
          "scattergl": [
           {
            "marker": {
             "colorbar": {
              "outlinewidth": 0,
              "ticks": ""
             }
            },
            "type": "scattergl"
           }
          ],
          "scattermapbox": [
           {
            "marker": {
             "colorbar": {
              "outlinewidth": 0,
              "ticks": ""
             }
            },
            "type": "scattermapbox"
           }
          ],
          "scatterpolar": [
           {
            "marker": {
             "colorbar": {
              "outlinewidth": 0,
              "ticks": ""
             }
            },
            "type": "scatterpolar"
           }
          ],
          "scatterpolargl": [
           {
            "marker": {
             "colorbar": {
              "outlinewidth": 0,
              "ticks": ""
             }
            },
            "type": "scatterpolargl"
           }
          ],
          "scatterternary": [
           {
            "marker": {
             "colorbar": {
              "outlinewidth": 0,
              "ticks": ""
             }
            },
            "type": "scatterternary"
           }
          ],
          "surface": [
           {
            "colorbar": {
             "outlinewidth": 0,
             "ticks": ""
            },
            "colorscale": [
             [
              0,
              "#0d0887"
             ],
             [
              0.1111111111111111,
              "#46039f"
             ],
             [
              0.2222222222222222,
              "#7201a8"
             ],
             [
              0.3333333333333333,
              "#9c179e"
             ],
             [
              0.4444444444444444,
              "#bd3786"
             ],
             [
              0.5555555555555556,
              "#d8576b"
             ],
             [
              0.6666666666666666,
              "#ed7953"
             ],
             [
              0.7777777777777778,
              "#fb9f3a"
             ],
             [
              0.8888888888888888,
              "#fdca26"
             ],
             [
              1,
              "#f0f921"
             ]
            ],
            "type": "surface"
           }
          ],
          "table": [
           {
            "cells": {
             "fill": {
              "color": "#EBF0F8"
             },
             "line": {
              "color": "white"
             }
            },
            "header": {
             "fill": {
              "color": "#C8D4E3"
             },
             "line": {
              "color": "white"
             }
            },
            "type": "table"
           }
          ]
         },
         "layout": {
          "annotationdefaults": {
           "arrowcolor": "#2a3f5f",
           "arrowhead": 0,
           "arrowwidth": 1
          },
          "autotypenumbers": "strict",
          "coloraxis": {
           "colorbar": {
            "outlinewidth": 0,
            "ticks": ""
           }
          },
          "colorscale": {
           "diverging": [
            [
             0,
             "#8e0152"
            ],
            [
             0.1,
             "#c51b7d"
            ],
            [
             0.2,
             "#de77ae"
            ],
            [
             0.3,
             "#f1b6da"
            ],
            [
             0.4,
             "#fde0ef"
            ],
            [
             0.5,
             "#f7f7f7"
            ],
            [
             0.6,
             "#e6f5d0"
            ],
            [
             0.7,
             "#b8e186"
            ],
            [
             0.8,
             "#7fbc41"
            ],
            [
             0.9,
             "#4d9221"
            ],
            [
             1,
             "#276419"
            ]
           ],
           "sequential": [
            [
             0,
             "#0d0887"
            ],
            [
             0.1111111111111111,
             "#46039f"
            ],
            [
             0.2222222222222222,
             "#7201a8"
            ],
            [
             0.3333333333333333,
             "#9c179e"
            ],
            [
             0.4444444444444444,
             "#bd3786"
            ],
            [
             0.5555555555555556,
             "#d8576b"
            ],
            [
             0.6666666666666666,
             "#ed7953"
            ],
            [
             0.7777777777777778,
             "#fb9f3a"
            ],
            [
             0.8888888888888888,
             "#fdca26"
            ],
            [
             1,
             "#f0f921"
            ]
           ],
           "sequentialminus": [
            [
             0,
             "#0d0887"
            ],
            [
             0.1111111111111111,
             "#46039f"
            ],
            [
             0.2222222222222222,
             "#7201a8"
            ],
            [
             0.3333333333333333,
             "#9c179e"
            ],
            [
             0.4444444444444444,
             "#bd3786"
            ],
            [
             0.5555555555555556,
             "#d8576b"
            ],
            [
             0.6666666666666666,
             "#ed7953"
            ],
            [
             0.7777777777777778,
             "#fb9f3a"
            ],
            [
             0.8888888888888888,
             "#fdca26"
            ],
            [
             1,
             "#f0f921"
            ]
           ]
          },
          "colorway": [
           "#636efa",
           "#EF553B",
           "#00cc96",
           "#ab63fa",
           "#FFA15A",
           "#19d3f3",
           "#FF6692",
           "#B6E880",
           "#FF97FF",
           "#FECB52"
          ],
          "font": {
           "color": "#2a3f5f"
          },
          "geo": {
           "bgcolor": "white",
           "lakecolor": "white",
           "landcolor": "#E5ECF6",
           "showlakes": true,
           "showland": true,
           "subunitcolor": "white"
          },
          "hoverlabel": {
           "align": "left"
          },
          "hovermode": "closest",
          "mapbox": {
           "style": "light"
          },
          "paper_bgcolor": "white",
          "plot_bgcolor": "#E5ECF6",
          "polar": {
           "angularaxis": {
            "gridcolor": "white",
            "linecolor": "white",
            "ticks": ""
           },
           "bgcolor": "#E5ECF6",
           "radialaxis": {
            "gridcolor": "white",
            "linecolor": "white",
            "ticks": ""
           }
          },
          "scene": {
           "xaxis": {
            "backgroundcolor": "#E5ECF6",
            "gridcolor": "white",
            "gridwidth": 2,
            "linecolor": "white",
            "showbackground": true,
            "ticks": "",
            "zerolinecolor": "white"
           },
           "yaxis": {
            "backgroundcolor": "#E5ECF6",
            "gridcolor": "white",
            "gridwidth": 2,
            "linecolor": "white",
            "showbackground": true,
            "ticks": "",
            "zerolinecolor": "white"
           },
           "zaxis": {
            "backgroundcolor": "#E5ECF6",
            "gridcolor": "white",
            "gridwidth": 2,
            "linecolor": "white",
            "showbackground": true,
            "ticks": "",
            "zerolinecolor": "white"
           }
          },
          "shapedefaults": {
           "line": {
            "color": "#2a3f5f"
           }
          },
          "ternary": {
           "aaxis": {
            "gridcolor": "white",
            "linecolor": "white",
            "ticks": ""
           },
           "baxis": {
            "gridcolor": "white",
            "linecolor": "white",
            "ticks": ""
           },
           "bgcolor": "#E5ECF6",
           "caxis": {
            "gridcolor": "white",
            "linecolor": "white",
            "ticks": ""
           }
          },
          "title": {
           "x": 0.05
          },
          "xaxis": {
           "automargin": true,
           "gridcolor": "white",
           "linecolor": "white",
           "ticks": "",
           "title": {
            "standoff": 15
           },
           "zerolinecolor": "white",
           "zerolinewidth": 2
          },
          "yaxis": {
           "automargin": true,
           "gridcolor": "white",
           "linecolor": "white",
           "ticks": "",
           "title": {
            "standoff": 15
           },
           "zerolinecolor": "white",
           "zerolinewidth": 2
          }
         }
        }
       }
      },
      "text/html": [
       "<div>                            <div id=\"d1bb7947-8382-4658-8dc5-72691451ba93\" class=\"plotly-graph-div\" style=\"height:525px; width:100%;\"></div>            <script type=\"text/javascript\">                require([\"plotly\"], function(Plotly) {                    window.PLOTLYENV=window.PLOTLYENV || {};                                    if (document.getElementById(\"d1bb7947-8382-4658-8dc5-72691451ba93\")) {                    Plotly.newPlot(                        \"d1bb7947-8382-4658-8dc5-72691451ba93\",                        [{\"mode\":\"markers\",\"type\":\"scatter3d\",\"x\":[180,165,630,630],\"y\":[0,10,0,50],\"z\":[0.6420647210263773,1.1250210479454075,2.1575429903432313,1.3579906506218897]}],                        {\"template\":{\"data\":{\"bar\":[{\"error_x\":{\"color\":\"#2a3f5f\"},\"error_y\":{\"color\":\"#2a3f5f\"},\"marker\":{\"line\":{\"color\":\"#E5ECF6\",\"width\":0.5},\"pattern\":{\"fillmode\":\"overlay\",\"size\":10,\"solidity\":0.2}},\"type\":\"bar\"}],\"barpolar\":[{\"marker\":{\"line\":{\"color\":\"#E5ECF6\",\"width\":0.5},\"pattern\":{\"fillmode\":\"overlay\",\"size\":10,\"solidity\":0.2}},\"type\":\"barpolar\"}],\"carpet\":[{\"aaxis\":{\"endlinecolor\":\"#2a3f5f\",\"gridcolor\":\"white\",\"linecolor\":\"white\",\"minorgridcolor\":\"white\",\"startlinecolor\":\"#2a3f5f\"},\"baxis\":{\"endlinecolor\":\"#2a3f5f\",\"gridcolor\":\"white\",\"linecolor\":\"white\",\"minorgridcolor\":\"white\",\"startlinecolor\":\"#2a3f5f\"},\"type\":\"carpet\"}],\"choropleth\":[{\"colorbar\":{\"outlinewidth\":0,\"ticks\":\"\"},\"type\":\"choropleth\"}],\"contour\":[{\"colorbar\":{\"outlinewidth\":0,\"ticks\":\"\"},\"colorscale\":[[0.0,\"#0d0887\"],[0.1111111111111111,\"#46039f\"],[0.2222222222222222,\"#7201a8\"],[0.3333333333333333,\"#9c179e\"],[0.4444444444444444,\"#bd3786\"],[0.5555555555555556,\"#d8576b\"],[0.6666666666666666,\"#ed7953\"],[0.7777777777777778,\"#fb9f3a\"],[0.8888888888888888,\"#fdca26\"],[1.0,\"#f0f921\"]],\"type\":\"contour\"}],\"contourcarpet\":[{\"colorbar\":{\"outlinewidth\":0,\"ticks\":\"\"},\"type\":\"contourcarpet\"}],\"heatmap\":[{\"colorbar\":{\"outlinewidth\":0,\"ticks\":\"\"},\"colorscale\":[[0.0,\"#0d0887\"],[0.1111111111111111,\"#46039f\"],[0.2222222222222222,\"#7201a8\"],[0.3333333333333333,\"#9c179e\"],[0.4444444444444444,\"#bd3786\"],[0.5555555555555556,\"#d8576b\"],[0.6666666666666666,\"#ed7953\"],[0.7777777777777778,\"#fb9f3a\"],[0.8888888888888888,\"#fdca26\"],[1.0,\"#f0f921\"]],\"type\":\"heatmap\"}],\"heatmapgl\":[{\"colorbar\":{\"outlinewidth\":0,\"ticks\":\"\"},\"colorscale\":[[0.0,\"#0d0887\"],[0.1111111111111111,\"#46039f\"],[0.2222222222222222,\"#7201a8\"],[0.3333333333333333,\"#9c179e\"],[0.4444444444444444,\"#bd3786\"],[0.5555555555555556,\"#d8576b\"],[0.6666666666666666,\"#ed7953\"],[0.7777777777777778,\"#fb9f3a\"],[0.8888888888888888,\"#fdca26\"],[1.0,\"#f0f921\"]],\"type\":\"heatmapgl\"}],\"histogram\":[{\"marker\":{\"pattern\":{\"fillmode\":\"overlay\",\"size\":10,\"solidity\":0.2}},\"type\":\"histogram\"}],\"histogram2d\":[{\"colorbar\":{\"outlinewidth\":0,\"ticks\":\"\"},\"colorscale\":[[0.0,\"#0d0887\"],[0.1111111111111111,\"#46039f\"],[0.2222222222222222,\"#7201a8\"],[0.3333333333333333,\"#9c179e\"],[0.4444444444444444,\"#bd3786\"],[0.5555555555555556,\"#d8576b\"],[0.6666666666666666,\"#ed7953\"],[0.7777777777777778,\"#fb9f3a\"],[0.8888888888888888,\"#fdca26\"],[1.0,\"#f0f921\"]],\"type\":\"histogram2d\"}],\"histogram2dcontour\":[{\"colorbar\":{\"outlinewidth\":0,\"ticks\":\"\"},\"colorscale\":[[0.0,\"#0d0887\"],[0.1111111111111111,\"#46039f\"],[0.2222222222222222,\"#7201a8\"],[0.3333333333333333,\"#9c179e\"],[0.4444444444444444,\"#bd3786\"],[0.5555555555555556,\"#d8576b\"],[0.6666666666666666,\"#ed7953\"],[0.7777777777777778,\"#fb9f3a\"],[0.8888888888888888,\"#fdca26\"],[1.0,\"#f0f921\"]],\"type\":\"histogram2dcontour\"}],\"mesh3d\":[{\"colorbar\":{\"outlinewidth\":0,\"ticks\":\"\"},\"type\":\"mesh3d\"}],\"parcoords\":[{\"line\":{\"colorbar\":{\"outlinewidth\":0,\"ticks\":\"\"}},\"type\":\"parcoords\"}],\"pie\":[{\"automargin\":true,\"type\":\"pie\"}],\"scatter\":[{\"marker\":{\"colorbar\":{\"outlinewidth\":0,\"ticks\":\"\"}},\"type\":\"scatter\"}],\"scatter3d\":[{\"line\":{\"colorbar\":{\"outlinewidth\":0,\"ticks\":\"\"}},\"marker\":{\"colorbar\":{\"outlinewidth\":0,\"ticks\":\"\"}},\"type\":\"scatter3d\"}],\"scattercarpet\":[{\"marker\":{\"colorbar\":{\"outlinewidth\":0,\"ticks\":\"\"}},\"type\":\"scattercarpet\"}],\"scattergeo\":[{\"marker\":{\"colorbar\":{\"outlinewidth\":0,\"ticks\":\"\"}},\"type\":\"scattergeo\"}],\"scattergl\":[{\"marker\":{\"colorbar\":{\"outlinewidth\":0,\"ticks\":\"\"}},\"type\":\"scattergl\"}],\"scattermapbox\":[{\"marker\":{\"colorbar\":{\"outlinewidth\":0,\"ticks\":\"\"}},\"type\":\"scattermapbox\"}],\"scatterpolar\":[{\"marker\":{\"colorbar\":{\"outlinewidth\":0,\"ticks\":\"\"}},\"type\":\"scatterpolar\"}],\"scatterpolargl\":[{\"marker\":{\"colorbar\":{\"outlinewidth\":0,\"ticks\":\"\"}},\"type\":\"scatterpolargl\"}],\"scatterternary\":[{\"marker\":{\"colorbar\":{\"outlinewidth\":0,\"ticks\":\"\"}},\"type\":\"scatterternary\"}],\"surface\":[{\"colorbar\":{\"outlinewidth\":0,\"ticks\":\"\"},\"colorscale\":[[0.0,\"#0d0887\"],[0.1111111111111111,\"#46039f\"],[0.2222222222222222,\"#7201a8\"],[0.3333333333333333,\"#9c179e\"],[0.4444444444444444,\"#bd3786\"],[0.5555555555555556,\"#d8576b\"],[0.6666666666666666,\"#ed7953\"],[0.7777777777777778,\"#fb9f3a\"],[0.8888888888888888,\"#fdca26\"],[1.0,\"#f0f921\"]],\"type\":\"surface\"}],\"table\":[{\"cells\":{\"fill\":{\"color\":\"#EBF0F8\"},\"line\":{\"color\":\"white\"}},\"header\":{\"fill\":{\"color\":\"#C8D4E3\"},\"line\":{\"color\":\"white\"}},\"type\":\"table\"}]},\"layout\":{\"annotationdefaults\":{\"arrowcolor\":\"#2a3f5f\",\"arrowhead\":0,\"arrowwidth\":1},\"autotypenumbers\":\"strict\",\"coloraxis\":{\"colorbar\":{\"outlinewidth\":0,\"ticks\":\"\"}},\"colorscale\":{\"diverging\":[[0,\"#8e0152\"],[0.1,\"#c51b7d\"],[0.2,\"#de77ae\"],[0.3,\"#f1b6da\"],[0.4,\"#fde0ef\"],[0.5,\"#f7f7f7\"],[0.6,\"#e6f5d0\"],[0.7,\"#b8e186\"],[0.8,\"#7fbc41\"],[0.9,\"#4d9221\"],[1,\"#276419\"]],\"sequential\":[[0.0,\"#0d0887\"],[0.1111111111111111,\"#46039f\"],[0.2222222222222222,\"#7201a8\"],[0.3333333333333333,\"#9c179e\"],[0.4444444444444444,\"#bd3786\"],[0.5555555555555556,\"#d8576b\"],[0.6666666666666666,\"#ed7953\"],[0.7777777777777778,\"#fb9f3a\"],[0.8888888888888888,\"#fdca26\"],[1.0,\"#f0f921\"]],\"sequentialminus\":[[0.0,\"#0d0887\"],[0.1111111111111111,\"#46039f\"],[0.2222222222222222,\"#7201a8\"],[0.3333333333333333,\"#9c179e\"],[0.4444444444444444,\"#bd3786\"],[0.5555555555555556,\"#d8576b\"],[0.6666666666666666,\"#ed7953\"],[0.7777777777777778,\"#fb9f3a\"],[0.8888888888888888,\"#fdca26\"],[1.0,\"#f0f921\"]]},\"colorway\":[\"#636efa\",\"#EF553B\",\"#00cc96\",\"#ab63fa\",\"#FFA15A\",\"#19d3f3\",\"#FF6692\",\"#B6E880\",\"#FF97FF\",\"#FECB52\"],\"font\":{\"color\":\"#2a3f5f\"},\"geo\":{\"bgcolor\":\"white\",\"lakecolor\":\"white\",\"landcolor\":\"#E5ECF6\",\"showlakes\":true,\"showland\":true,\"subunitcolor\":\"white\"},\"hoverlabel\":{\"align\":\"left\"},\"hovermode\":\"closest\",\"mapbox\":{\"style\":\"light\"},\"paper_bgcolor\":\"white\",\"plot_bgcolor\":\"#E5ECF6\",\"polar\":{\"angularaxis\":{\"gridcolor\":\"white\",\"linecolor\":\"white\",\"ticks\":\"\"},\"bgcolor\":\"#E5ECF6\",\"radialaxis\":{\"gridcolor\":\"white\",\"linecolor\":\"white\",\"ticks\":\"\"}},\"scene\":{\"xaxis\":{\"backgroundcolor\":\"#E5ECF6\",\"gridcolor\":\"white\",\"gridwidth\":2,\"linecolor\":\"white\",\"showbackground\":true,\"ticks\":\"\",\"zerolinecolor\":\"white\"},\"yaxis\":{\"backgroundcolor\":\"#E5ECF6\",\"gridcolor\":\"white\",\"gridwidth\":2,\"linecolor\":\"white\",\"showbackground\":true,\"ticks\":\"\",\"zerolinecolor\":\"white\"},\"zaxis\":{\"backgroundcolor\":\"#E5ECF6\",\"gridcolor\":\"white\",\"gridwidth\":2,\"linecolor\":\"white\",\"showbackground\":true,\"ticks\":\"\",\"zerolinecolor\":\"white\"}},\"shapedefaults\":{\"line\":{\"color\":\"#2a3f5f\"}},\"ternary\":{\"aaxis\":{\"gridcolor\":\"white\",\"linecolor\":\"white\",\"ticks\":\"\"},\"baxis\":{\"gridcolor\":\"white\",\"linecolor\":\"white\",\"ticks\":\"\"},\"bgcolor\":\"#E5ECF6\",\"caxis\":{\"gridcolor\":\"white\",\"linecolor\":\"white\",\"ticks\":\"\"}},\"title\":{\"x\":0.05},\"xaxis\":{\"automargin\":true,\"gridcolor\":\"white\",\"linecolor\":\"white\",\"ticks\":\"\",\"title\":{\"standoff\":15},\"zerolinecolor\":\"white\",\"zerolinewidth\":2},\"yaxis\":{\"automargin\":true,\"gridcolor\":\"white\",\"linecolor\":\"white\",\"ticks\":\"\",\"title\":{\"standoff\":15},\"zerolinecolor\":\"white\",\"zerolinewidth\":2}}}},                        {\"responsive\": true}                    ).then(function(){\n",
       "                            \n",
       "var gd = document.getElementById('d1bb7947-8382-4658-8dc5-72691451ba93');\n",
       "var x = new MutationObserver(function (mutations, observer) {{\n",
       "        var display = window.getComputedStyle(gd).display;\n",
       "        if (!display || display === 'none') {{\n",
       "            console.log([gd, 'removed!']);\n",
       "            Plotly.purge(gd);\n",
       "            observer.disconnect();\n",
       "        }}\n",
       "}});\n",
       "\n",
       "// Listen for the removal of the full notebook cells\n",
       "var notebookContainer = gd.closest('#notebook-container');\n",
       "if (notebookContainer) {{\n",
       "    x.observe(notebookContainer, {childList: true});\n",
       "}}\n",
       "\n",
       "// Listen for the clearing of the current output cell\n",
       "var outputEl = gd.closest('.output');\n",
       "if (outputEl) {{\n",
       "    x.observe(outputEl, {childList: true});\n",
       "}}\n",
       "\n",
       "                        })                };                });            </script>        </div>"
      ]
     },
     "metadata": {},
     "output_type": "display_data"
    }
   ],
   "source": [
    "import plotly.graph_objects as go\n",
    "import numpy as np\n",
    "\n",
    "# Helix equation\n",
    "t = np.linspace(0, 10, 50)\n",
    "x, y, z = np.cos(t), np.sin(t), t\n",
    "\n",
    "Ls = [180,165,630,630]\n",
    "ds = [0,10,0,50]\n",
    "\n",
    "\n",
    "fig = go.Figure(data=[go.Scatter3d(x=Ls, y=ds, z=errors,\n",
    "                                   mode='markers')])\n",
    "\n",
    "fig.show()"
   ]
  },
  {
   "cell_type": "code",
   "execution_count": null,
   "metadata": {},
   "outputs": [],
   "source": []
  }
 ],
 "metadata": {
  "kernelspec": {
   "display_name": "Python 3",
   "language": "python",
   "name": "python3"
  },
  "language_info": {
   "codemirror_mode": {
    "name": "ipython",
    "version": 3
   },
   "file_extension": ".py",
   "mimetype": "text/x-python",
   "name": "python",
   "nbconvert_exporter": "python",
   "pygments_lexer": "ipython3",
   "version": "3.8.5"
  }
 },
 "nbformat": 4,
 "nbformat_minor": 4
}
