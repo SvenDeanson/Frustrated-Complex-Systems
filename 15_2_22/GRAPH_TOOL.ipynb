{
 "cells": [
  {
   "cell_type": "markdown",
   "id": "korean-episode",
   "metadata": {},
   "source": [
    "# Graph-tool"
   ]
  },
  {
   "cell_type": "code",
   "execution_count": 1,
   "id": "narrative-charity",
   "metadata": {},
   "outputs": [
    {
     "data": {
      "text/plain": [
       "<VertexPropertyMap object with value type 'vector<double>', for Graph 0x7f4f80cd6dc0, at 0x7f4f69606fd0>"
      ]
     },
     "execution_count": 1,
     "metadata": {},
     "output_type": "execute_result"
    }
   ],
   "source": [
    "import graph_tool.all as gt\n",
    "\n",
    "g = gt.price_network(300)\n",
    "\n",
    "pos = gt.fruchterman_reingold_layout(g, n_iter=1000)\n",
    "\n",
    "gt.graph_draw(g, pos=pos, output=\"graph-draw-fr.pdf\")"
   ]
  },
  {
   "cell_type": "code",
   "execution_count": 8,
   "id": "geological-server",
   "metadata": {},
   "outputs": [
    {
     "data": {
      "text/plain": [
       "<VertexPropertyMap object with value type 'vector<double>', for Graph 0x7fa8d0482640, at 0x7fa8b35deb50>"
      ]
     },
     "execution_count": 8,
     "metadata": {},
     "output_type": "execute_result"
    }
   ],
   "source": [
    "g = gt.lattice([10, 5]) \n",
    "\n",
    "pos = gt.sfdp_layout(g)\n",
    "gt.graph_draw(g, pos=pos, output_size=(500,500), vertex_text=g.vertex_index, output=\"lattice.png\")\n"
   ]
  },
  {
   "cell_type": "code",
   "execution_count": 8,
   "id": "damaged-bandwidth",
   "metadata": {},
   "outputs": [],
   "source": [
    "# https://graph-tool.skewed.de/static/doc/demos/matplotlib/matplotlib.html\n",
    "\n",
    "import graph_tool.all as gt\n",
    "import matplotlib.pyplot as plt\n",
    "\n",
    "plt.switch_backend(\"cairo\")\n",
    "\n",
    "fig, ax = plt.subplots(figsize=(4,4))\n",
    "\n",
    "g = gt.lattice([10, 5]) \n",
    "\n",
    "pos = gt.sfdp_layout(g)\n",
    "\n",
    "gt.graph_draw(g, pos, vertex_size=1.5, mplfig=ax)\n",
    "\n",
    "ax.set_xlabel(\"$x$ coordinate\")\n",
    "ax.set_ylabel(\"$y$ coordinate\")\n",
    "\n",
    "#plt.show()\n",
    "fig.savefig(\"gt-mpl2.pdf\")"
   ]
  },
  {
   "cell_type": "code",
   "execution_count": 59,
   "id": "direct-glossary",
   "metadata": {},
   "outputs": [],
   "source": [
    "import random\n",
    "import numpy as np\n",
    "\n",
    "def Graph_Tool_Creation(n):\n",
    "    k = 0.5\n",
    "    \n",
    "    GT = gt.lattice([n, n])\n",
    "    \n",
    "    N = len(GT.get_vertices())#n*n #len(G.nodes())\n",
    "    \n",
    "    print(N)\n",
    "    \n",
    "    print(len(GT.get_edges()))\n",
    "    \n",
    "    m = random.randrange(0,N)\n",
    "    n = N-m\n",
    "\n",
    "    a = np.ones(N)\n",
    "    a[:m] = 0\n",
    "    np.random.shuffle(a)\n",
    "    \n",
    "    v_color = GT.new_vertex_property(\"int\")\n",
    "    \n",
    "    for index,v in enumerate(GT.get_vertices()):\n",
    "        #print(v)\n",
    "        v_color[v] = a[index]\n",
    "\n",
    "    GT.vertex_properties[\"Color\"] = v_color\n",
    "\n",
    "    return GT"
   ]
  },
  {
   "cell_type": "code",
   "execution_count": 60,
   "id": "humanitarian-stick",
   "metadata": {},
   "outputs": [
    {
     "name": "stdout",
     "output_type": "stream",
     "text": [
      "400\n",
      "760\n"
     ]
    }
   ],
   "source": [
    "GT = Graph_Tool_Creation(20)"
   ]
  },
  {
   "cell_type": "code",
   "execution_count": 143,
   "id": "smoking-findings",
   "metadata": {
    "tags": []
   },
   "outputs": [
    {
     "name": "stdout",
     "output_type": "stream",
     "text": [
      "<VertexPropertyMap object with value type 'int32_t', for Graph 0x7f4ec1d5f340, at 0x7f4ec1d97550>\n",
      "(0, 1)\n",
      "green\n"
     ]
    },
    {
     "ename": "ArgumentError",
     "evalue": "Python argument types in\n    EdgePropertyMap<vector<double>>.__setitem__(EdgePropertyMap<vector<double>>, numpy.ndarray, list)\ndid not match C++ signature:\n    __setitem__(graph_tool::PythonPropertyMap<boost::checked_vector_property_map<std::vector<double, std::allocator<double> >, boost::adj_edge_index_property_map<unsigned long> > > {lvalue}, graph_tool::PythonEdge<boost::filt_graph<boost::undirected_adaptor<boost::adj_list<unsigned long> >, graph_tool::detail::MaskFilter<boost::unchecked_vector_property_map<unsigned char, boost::adj_edge_index_property_map<unsigned long> > >, graph_tool::detail::MaskFilter<boost::unchecked_vector_property_map<unsigned char, boost::typed_identity_property_map<unsigned long> > > > const>, std::vector<double, std::allocator<double> >)\n    __setitem__(graph_tool::PythonPropertyMap<boost::checked_vector_property_map<std::vector<double, std::allocator<double> >, boost::adj_edge_index_property_map<unsigned long> > > {lvalue}, graph_tool::PythonEdge<boost::filt_graph<boost::reversed_graph<boost::adj_list<unsigned long>, boost::adj_list<unsigned long> const&>, graph_tool::detail::MaskFilter<boost::unchecked_vector_property_map<unsigned char, boost::adj_edge_index_property_map<unsigned long> > >, graph_tool::detail::MaskFilter<boost::unchecked_vector_property_map<unsigned char, boost::typed_identity_property_map<unsigned long> > > > const>, std::vector<double, std::allocator<double> >)\n    __setitem__(graph_tool::PythonPropertyMap<boost::checked_vector_property_map<std::vector<double, std::allocator<double> >, boost::adj_edge_index_property_map<unsigned long> > > {lvalue}, graph_tool::PythonEdge<boost::filt_graph<boost::adj_list<unsigned long>, graph_tool::detail::MaskFilter<boost::unchecked_vector_property_map<unsigned char, boost::adj_edge_index_property_map<unsigned long> > >, graph_tool::detail::MaskFilter<boost::unchecked_vector_property_map<unsigned char, boost::typed_identity_property_map<unsigned long> > > > const>, std::vector<double, std::allocator<double> >)\n    __setitem__(graph_tool::PythonPropertyMap<boost::checked_vector_property_map<std::vector<double, std::allocator<double> >, boost::adj_edge_index_property_map<unsigned long> > > {lvalue}, graph_tool::PythonEdge<boost::undirected_adaptor<boost::adj_list<unsigned long> > const>, std::vector<double, std::allocator<double> >)\n    __setitem__(graph_tool::PythonPropertyMap<boost::checked_vector_property_map<std::vector<double, std::allocator<double> >, boost::adj_edge_index_property_map<unsigned long> > > {lvalue}, graph_tool::PythonEdge<boost::reversed_graph<boost::adj_list<unsigned long>, boost::adj_list<unsigned long> const&> const>, std::vector<double, std::allocator<double> >)\n    __setitem__(graph_tool::PythonPropertyMap<boost::checked_vector_property_map<std::vector<double, std::allocator<double> >, boost::adj_edge_index_property_map<unsigned long> > > {lvalue}, graph_tool::PythonEdge<boost::adj_list<unsigned long> const>, std::vector<double, std::allocator<double> >)\n    __setitem__(graph_tool::PythonPropertyMap<boost::checked_vector_property_map<std::vector<double, std::allocator<double> >, boost::adj_edge_index_property_map<unsigned long> > > {lvalue}, graph_tool::PythonEdge<boost::filt_graph<boost::undirected_adaptor<boost::adj_list<unsigned long> >, graph_tool::detail::MaskFilter<boost::unchecked_vector_property_map<unsigned char, boost::adj_edge_index_property_map<unsigned long> > >, graph_tool::detail::MaskFilter<boost::unchecked_vector_property_map<unsigned char, boost::typed_identity_property_map<unsigned long> > > > >, std::vector<double, std::allocator<double> >)\n    __setitem__(graph_tool::PythonPropertyMap<boost::checked_vector_property_map<std::vector<double, std::allocator<double> >, boost::adj_edge_index_property_map<unsigned long> > > {lvalue}, graph_tool::PythonEdge<boost::filt_graph<boost::reversed_graph<boost::adj_list<unsigned long>, boost::adj_list<unsigned long> const&>, graph_tool::detail::MaskFilter<boost::unchecked_vector_property_map<unsigned char, boost::adj_edge_index_property_map<unsigned long> > >, graph_tool::detail::MaskFilter<boost::unchecked_vector_property_map<unsigned char, boost::typed_identity_property_map<unsigned long> > > > >, std::vector<double, std::allocator<double> >)\n    __setitem__(graph_tool::PythonPropertyMap<boost::checked_vector_property_map<std::vector<double, std::allocator<double> >, boost::adj_edge_index_property_map<unsigned long> > > {lvalue}, graph_tool::PythonEdge<boost::filt_graph<boost::adj_list<unsigned long>, graph_tool::detail::MaskFilter<boost::unchecked_vector_property_map<unsigned char, boost::adj_edge_index_property_map<unsigned long> > >, graph_tool::detail::MaskFilter<boost::unchecked_vector_property_map<unsigned char, boost::typed_identity_property_map<unsigned long> > > > >, std::vector<double, std::allocator<double> >)\n    __setitem__(graph_tool::PythonPropertyMap<boost::checked_vector_property_map<std::vector<double, std::allocator<double> >, boost::adj_edge_index_property_map<unsigned long> > > {lvalue}, graph_tool::PythonEdge<boost::undirected_adaptor<boost::adj_list<unsigned long> > >, std::vector<double, std::allocator<double> >)\n    __setitem__(graph_tool::PythonPropertyMap<boost::checked_vector_property_map<std::vector<double, std::allocator<double> >, boost::adj_edge_index_property_map<unsigned long> > > {lvalue}, graph_tool::PythonEdge<boost::reversed_graph<boost::adj_list<unsigned long>, boost::adj_list<unsigned long> const&> >, std::vector<double, std::allocator<double> >)\n    __setitem__(graph_tool::PythonPropertyMap<boost::checked_vector_property_map<std::vector<double, std::allocator<double> >, boost::adj_edge_index_property_map<unsigned long> > > {lvalue}, graph_tool::PythonEdge<boost::adj_list<unsigned long> >, std::vector<double, std::allocator<double> >)",
     "output_type": "error",
     "traceback": [
      "\u001b[0;31m---------------------------------------------------------------------------\u001b[0m",
      "\u001b[0;31mArgumentError\u001b[0m                             Traceback (most recent call last)",
      "\u001b[0;32m~/anaconda3/envs/gt/lib/python3.9/site-packages/graph_tool/__init__.py\u001b[0m in \u001b[0;36m__setitem__\u001b[0;34m(self, k, v)\u001b[0m\n\u001b[1;32m    890\u001b[0m         \u001b[0;32mtry\u001b[0m\u001b[0;34m:\u001b[0m\u001b[0;34m\u001b[0m\u001b[0;34m\u001b[0m\u001b[0m\n\u001b[0;32m--> 891\u001b[0;31m             \u001b[0mself\u001b[0m\u001b[0;34m.\u001b[0m\u001b[0m_PropertyMap__map\u001b[0m\u001b[0;34m[\u001b[0m\u001b[0mk\u001b[0m\u001b[0;34m]\u001b[0m \u001b[0;34m=\u001b[0m \u001b[0mv\u001b[0m\u001b[0;34m\u001b[0m\u001b[0;34m\u001b[0m\u001b[0m\n\u001b[0m\u001b[1;32m    892\u001b[0m         \u001b[0;32mexcept\u001b[0m \u001b[0mTypeError\u001b[0m\u001b[0;34m:\u001b[0m\u001b[0;34m\u001b[0m\u001b[0;34m\u001b[0m\u001b[0m\n",
      "\u001b[0;31mArgumentError\u001b[0m: Python argument types in\n    EdgePropertyMap<vector<double>>.__setitem__(EdgePropertyMap<vector<double>>, numpy.ndarray, tuple)\ndid not match C++ signature:\n    __setitem__(graph_tool::PythonPropertyMap<boost::checked_vector_property_map<std::vector<double, std::allocator<double> >, boost::adj_edge_index_property_map<unsigned long> > > {lvalue}, graph_tool::PythonEdge<boost::filt_graph<boost::undirected_adaptor<boost::adj_list<unsigned long> >, graph_tool::detail::MaskFilter<boost::unchecked_vector_property_map<unsigned char, boost::adj_edge_index_property_map<unsigned long> > >, graph_tool::detail::MaskFilter<boost::unchecked_vector_property_map<unsigned char, boost::typed_identity_property_map<unsigned long> > > > const>, std::vector<double, std::allocator<double> >)\n    __setitem__(graph_tool::PythonPropertyMap<boost::checked_vector_property_map<std::vector<double, std::allocator<double> >, boost::adj_edge_index_property_map<unsigned long> > > {lvalue}, graph_tool::PythonEdge<boost::filt_graph<boost::reversed_graph<boost::adj_list<unsigned long>, boost::adj_list<unsigned long> const&>, graph_tool::detail::MaskFilter<boost::unchecked_vector_property_map<unsigned char, boost::adj_edge_index_property_map<unsigned long> > >, graph_tool::detail::MaskFilter<boost::unchecked_vector_property_map<unsigned char, boost::typed_identity_property_map<unsigned long> > > > const>, std::vector<double, std::allocator<double> >)\n    __setitem__(graph_tool::PythonPropertyMap<boost::checked_vector_property_map<std::vector<double, std::allocator<double> >, boost::adj_edge_index_property_map<unsigned long> > > {lvalue}, graph_tool::PythonEdge<boost::filt_graph<boost::adj_list<unsigned long>, graph_tool::detail::MaskFilter<boost::unchecked_vector_property_map<unsigned char, boost::adj_edge_index_property_map<unsigned long> > >, graph_tool::detail::MaskFilter<boost::unchecked_vector_property_map<unsigned char, boost::typed_identity_property_map<unsigned long> > > > const>, std::vector<double, std::allocator<double> >)\n    __setitem__(graph_tool::PythonPropertyMap<boost::checked_vector_property_map<std::vector<double, std::allocator<double> >, boost::adj_edge_index_property_map<unsigned long> > > {lvalue}, graph_tool::PythonEdge<boost::undirected_adaptor<boost::adj_list<unsigned long> > const>, std::vector<double, std::allocator<double> >)\n    __setitem__(graph_tool::PythonPropertyMap<boost::checked_vector_property_map<std::vector<double, std::allocator<double> >, boost::adj_edge_index_property_map<unsigned long> > > {lvalue}, graph_tool::PythonEdge<boost::reversed_graph<boost::adj_list<unsigned long>, boost::adj_list<unsigned long> const&> const>, std::vector<double, std::allocator<double> >)\n    __setitem__(graph_tool::PythonPropertyMap<boost::checked_vector_property_map<std::vector<double, std::allocator<double> >, boost::adj_edge_index_property_map<unsigned long> > > {lvalue}, graph_tool::PythonEdge<boost::adj_list<unsigned long> const>, std::vector<double, std::allocator<double> >)\n    __setitem__(graph_tool::PythonPropertyMap<boost::checked_vector_property_map<std::vector<double, std::allocator<double> >, boost::adj_edge_index_property_map<unsigned long> > > {lvalue}, graph_tool::PythonEdge<boost::filt_graph<boost::undirected_adaptor<boost::adj_list<unsigned long> >, graph_tool::detail::MaskFilter<boost::unchecked_vector_property_map<unsigned char, boost::adj_edge_index_property_map<unsigned long> > >, graph_tool::detail::MaskFilter<boost::unchecked_vector_property_map<unsigned char, boost::typed_identity_property_map<unsigned long> > > > >, std::vector<double, std::allocator<double> >)\n    __setitem__(graph_tool::PythonPropertyMap<boost::checked_vector_property_map<std::vector<double, std::allocator<double> >, boost::adj_edge_index_property_map<unsigned long> > > {lvalue}, graph_tool::PythonEdge<boost::filt_graph<boost::reversed_graph<boost::adj_list<unsigned long>, boost::adj_list<unsigned long> const&>, graph_tool::detail::MaskFilter<boost::unchecked_vector_property_map<unsigned char, boost::adj_edge_index_property_map<unsigned long> > >, graph_tool::detail::MaskFilter<boost::unchecked_vector_property_map<unsigned char, boost::typed_identity_property_map<unsigned long> > > > >, std::vector<double, std::allocator<double> >)\n    __setitem__(graph_tool::PythonPropertyMap<boost::checked_vector_property_map<std::vector<double, std::allocator<double> >, boost::adj_edge_index_property_map<unsigned long> > > {lvalue}, graph_tool::PythonEdge<boost::filt_graph<boost::adj_list<unsigned long>, graph_tool::detail::MaskFilter<boost::unchecked_vector_property_map<unsigned char, boost::adj_edge_index_property_map<unsigned long> > >, graph_tool::detail::MaskFilter<boost::unchecked_vector_property_map<unsigned char, boost::typed_identity_property_map<unsigned long> > > > >, std::vector<double, std::allocator<double> >)\n    __setitem__(graph_tool::PythonPropertyMap<boost::checked_vector_property_map<std::vector<double, std::allocator<double> >, boost::adj_edge_index_property_map<unsigned long> > > {lvalue}, graph_tool::PythonEdge<boost::undirected_adaptor<boost::adj_list<unsigned long> > >, std::vector<double, std::allocator<double> >)\n    __setitem__(graph_tool::PythonPropertyMap<boost::checked_vector_property_map<std::vector<double, std::allocator<double> >, boost::adj_edge_index_property_map<unsigned long> > > {lvalue}, graph_tool::PythonEdge<boost::reversed_graph<boost::adj_list<unsigned long>, boost::adj_list<unsigned long> const&> >, std::vector<double, std::allocator<double> >)\n    __setitem__(graph_tool::PythonPropertyMap<boost::checked_vector_property_map<std::vector<double, std::allocator<double> >, boost::adj_edge_index_property_map<unsigned long> > > {lvalue}, graph_tool::PythonEdge<boost::adj_list<unsigned long> >, std::vector<double, std::allocator<double> >)",
      "\nDuring handling of the above exception, another exception occurred:\n",
      "\u001b[0;31mArgumentError\u001b[0m                             Traceback (most recent call last)",
      "\u001b[0;32m<ipython-input-143-a64821cfd9be>\u001b[0m in \u001b[0;36m<module>\u001b[0;34m\u001b[0m\n\u001b[1;32m     28\u001b[0m         \u001b[0;32mif\u001b[0m \u001b[0ma\u001b[0m \u001b[0;34m==\u001b[0m \u001b[0mb\u001b[0m \u001b[0;34m==\u001b[0m \u001b[0;36m0\u001b[0m\u001b[0;34m:\u001b[0m\u001b[0;34m\u001b[0m\u001b[0;34m\u001b[0m\u001b[0m\n\u001b[1;32m     29\u001b[0m             \u001b[0mprint\u001b[0m\u001b[0;34m(\u001b[0m\u001b[0;34m\"green\"\u001b[0m\u001b[0;34m)\u001b[0m\u001b[0;34m\u001b[0m\u001b[0;34m\u001b[0m\u001b[0m\n\u001b[0;32m---> 30\u001b[0;31m             \u001b[0medge_colors\u001b[0m\u001b[0;34m[\u001b[0m\u001b[0medge\u001b[0m\u001b[0;34m]\u001b[0m \u001b[0;34m=\u001b[0m \u001b[0;34m(\u001b[0m\u001b[0;36m0.0\u001b[0m\u001b[0;34m,\u001b[0m \u001b[0;36m255.0\u001b[0m\u001b[0;34m,\u001b[0m \u001b[0;36m0.0\u001b[0m\u001b[0;34m)\u001b[0m\u001b[0;34m\u001b[0m\u001b[0;34m\u001b[0m\u001b[0m\n\u001b[0m\u001b[1;32m     31\u001b[0m \u001b[0;34m\u001b[0m\u001b[0m\n\u001b[1;32m     32\u001b[0m     \u001b[0;32melse\u001b[0m\u001b[0;34m:\u001b[0m\u001b[0;34m\u001b[0m\u001b[0;34m\u001b[0m\u001b[0m\n",
      "\u001b[0;32m~/anaconda3/envs/gt/lib/python3.9/site-packages/graph_tool/__init__.py\u001b[0m in \u001b[0;36m__setitem__\u001b[0;34m(self, k, v)\u001b[0m\n\u001b[1;32m    891\u001b[0m             \u001b[0mself\u001b[0m\u001b[0;34m.\u001b[0m\u001b[0m_PropertyMap__map\u001b[0m\u001b[0;34m[\u001b[0m\u001b[0mk\u001b[0m\u001b[0;34m]\u001b[0m \u001b[0;34m=\u001b[0m \u001b[0mv\u001b[0m\u001b[0;34m\u001b[0m\u001b[0;34m\u001b[0m\u001b[0m\n\u001b[1;32m    892\u001b[0m         \u001b[0;32mexcept\u001b[0m \u001b[0mTypeError\u001b[0m\u001b[0;34m:\u001b[0m\u001b[0;34m\u001b[0m\u001b[0;34m\u001b[0m\u001b[0m\n\u001b[0;32m--> 893\u001b[0;31m             \u001b[0mself\u001b[0m\u001b[0;34m.\u001b[0m\u001b[0m_PropertyMap__map\u001b[0m\u001b[0;34m[\u001b[0m\u001b[0mk\u001b[0m\u001b[0;34m]\u001b[0m \u001b[0;34m=\u001b[0m \u001b[0mself\u001b[0m\u001b[0;34m.\u001b[0m\u001b[0m_PropertyMap__convert\u001b[0m\u001b[0;34m(\u001b[0m\u001b[0mv\u001b[0m\u001b[0;34m)\u001b[0m\u001b[0;34m\u001b[0m\u001b[0;34m\u001b[0m\u001b[0m\n\u001b[0m\u001b[1;32m    894\u001b[0m \u001b[0;34m\u001b[0m\u001b[0m\n\u001b[1;32m    895\u001b[0m     \u001b[0;32mdef\u001b[0m \u001b[0m__iter__\u001b[0m\u001b[0;34m(\u001b[0m\u001b[0mself\u001b[0m\u001b[0;34m)\u001b[0m\u001b[0;34m:\u001b[0m\u001b[0;34m\u001b[0m\u001b[0;34m\u001b[0m\u001b[0m\n",
      "\u001b[0;31mArgumentError\u001b[0m: Python argument types in\n    EdgePropertyMap<vector<double>>.__setitem__(EdgePropertyMap<vector<double>>, numpy.ndarray, list)\ndid not match C++ signature:\n    __setitem__(graph_tool::PythonPropertyMap<boost::checked_vector_property_map<std::vector<double, std::allocator<double> >, boost::adj_edge_index_property_map<unsigned long> > > {lvalue}, graph_tool::PythonEdge<boost::filt_graph<boost::undirected_adaptor<boost::adj_list<unsigned long> >, graph_tool::detail::MaskFilter<boost::unchecked_vector_property_map<unsigned char, boost::adj_edge_index_property_map<unsigned long> > >, graph_tool::detail::MaskFilter<boost::unchecked_vector_property_map<unsigned char, boost::typed_identity_property_map<unsigned long> > > > const>, std::vector<double, std::allocator<double> >)\n    __setitem__(graph_tool::PythonPropertyMap<boost::checked_vector_property_map<std::vector<double, std::allocator<double> >, boost::adj_edge_index_property_map<unsigned long> > > {lvalue}, graph_tool::PythonEdge<boost::filt_graph<boost::reversed_graph<boost::adj_list<unsigned long>, boost::adj_list<unsigned long> const&>, graph_tool::detail::MaskFilter<boost::unchecked_vector_property_map<unsigned char, boost::adj_edge_index_property_map<unsigned long> > >, graph_tool::detail::MaskFilter<boost::unchecked_vector_property_map<unsigned char, boost::typed_identity_property_map<unsigned long> > > > const>, std::vector<double, std::allocator<double> >)\n    __setitem__(graph_tool::PythonPropertyMap<boost::checked_vector_property_map<std::vector<double, std::allocator<double> >, boost::adj_edge_index_property_map<unsigned long> > > {lvalue}, graph_tool::PythonEdge<boost::filt_graph<boost::adj_list<unsigned long>, graph_tool::detail::MaskFilter<boost::unchecked_vector_property_map<unsigned char, boost::adj_edge_index_property_map<unsigned long> > >, graph_tool::detail::MaskFilter<boost::unchecked_vector_property_map<unsigned char, boost::typed_identity_property_map<unsigned long> > > > const>, std::vector<double, std::allocator<double> >)\n    __setitem__(graph_tool::PythonPropertyMap<boost::checked_vector_property_map<std::vector<double, std::allocator<double> >, boost::adj_edge_index_property_map<unsigned long> > > {lvalue}, graph_tool::PythonEdge<boost::undirected_adaptor<boost::adj_list<unsigned long> > const>, std::vector<double, std::allocator<double> >)\n    __setitem__(graph_tool::PythonPropertyMap<boost::checked_vector_property_map<std::vector<double, std::allocator<double> >, boost::adj_edge_index_property_map<unsigned long> > > {lvalue}, graph_tool::PythonEdge<boost::reversed_graph<boost::adj_list<unsigned long>, boost::adj_list<unsigned long> const&> const>, std::vector<double, std::allocator<double> >)\n    __setitem__(graph_tool::PythonPropertyMap<boost::checked_vector_property_map<std::vector<double, std::allocator<double> >, boost::adj_edge_index_property_map<unsigned long> > > {lvalue}, graph_tool::PythonEdge<boost::adj_list<unsigned long> const>, std::vector<double, std::allocator<double> >)\n    __setitem__(graph_tool::PythonPropertyMap<boost::checked_vector_property_map<std::vector<double, std::allocator<double> >, boost::adj_edge_index_property_map<unsigned long> > > {lvalue}, graph_tool::PythonEdge<boost::filt_graph<boost::undirected_adaptor<boost::adj_list<unsigned long> >, graph_tool::detail::MaskFilter<boost::unchecked_vector_property_map<unsigned char, boost::adj_edge_index_property_map<unsigned long> > >, graph_tool::detail::MaskFilter<boost::unchecked_vector_property_map<unsigned char, boost::typed_identity_property_map<unsigned long> > > > >, std::vector<double, std::allocator<double> >)\n    __setitem__(graph_tool::PythonPropertyMap<boost::checked_vector_property_map<std::vector<double, std::allocator<double> >, boost::adj_edge_index_property_map<unsigned long> > > {lvalue}, graph_tool::PythonEdge<boost::filt_graph<boost::reversed_graph<boost::adj_list<unsigned long>, boost::adj_list<unsigned long> const&>, graph_tool::detail::MaskFilter<boost::unchecked_vector_property_map<unsigned char, boost::adj_edge_index_property_map<unsigned long> > >, graph_tool::detail::MaskFilter<boost::unchecked_vector_property_map<unsigned char, boost::typed_identity_property_map<unsigned long> > > > >, std::vector<double, std::allocator<double> >)\n    __setitem__(graph_tool::PythonPropertyMap<boost::checked_vector_property_map<std::vector<double, std::allocator<double> >, boost::adj_edge_index_property_map<unsigned long> > > {lvalue}, graph_tool::PythonEdge<boost::filt_graph<boost::adj_list<unsigned long>, graph_tool::detail::MaskFilter<boost::unchecked_vector_property_map<unsigned char, boost::adj_edge_index_property_map<unsigned long> > >, graph_tool::detail::MaskFilter<boost::unchecked_vector_property_map<unsigned char, boost::typed_identity_property_map<unsigned long> > > > >, std::vector<double, std::allocator<double> >)\n    __setitem__(graph_tool::PythonPropertyMap<boost::checked_vector_property_map<std::vector<double, std::allocator<double> >, boost::adj_edge_index_property_map<unsigned long> > > {lvalue}, graph_tool::PythonEdge<boost::undirected_adaptor<boost::adj_list<unsigned long> > >, std::vector<double, std::allocator<double> >)\n    __setitem__(graph_tool::PythonPropertyMap<boost::checked_vector_property_map<std::vector<double, std::allocator<double> >, boost::adj_edge_index_property_map<unsigned long> > > {lvalue}, graph_tool::PythonEdge<boost::reversed_graph<boost::adj_list<unsigned long>, boost::adj_list<unsigned long> const&> >, std::vector<double, std::allocator<double> >)\n    __setitem__(graph_tool::PythonPropertyMap<boost::checked_vector_property_map<std::vector<double, std::allocator<double> >, boost::adj_edge_index_property_map<unsigned long> > > {lvalue}, graph_tool::PythonEdge<boost::adj_list<unsigned long> >, std::vector<double, std::allocator<double> >)"
     ]
    }
   ],
   "source": [
    "g = GT\n",
    "\n",
    "print(g.vertex_properties[\"Color\"])\n",
    "\n",
    "fig, ax = plt.subplots(figsize=(4,4))\n",
    "\n",
    "pos = gt.sfdp_layout(g)\n",
    "##########################################\n",
    "\n",
    "#edge_colors = []\n",
    "edge_colors = g.new_edge_property('vector<double>')\n",
    "\n",
    "for e in g.edges():\n",
    "    \n",
    "    #print(a,b)\n",
    "    Color = g.vertex_properties[\"Color\"]\n",
    "        \n",
    "    a = Color[edge[0]]\n",
    "    b = Color[edge[1]]\n",
    "    \n",
    "    print(e)\n",
    "    \n",
    "    if a == b:\n",
    "        \n",
    "        if a == b == 1:\n",
    "            print(\"red\")\n",
    "            edge_colors[edge] = (255.0, 0.0, 0.0) #\"red\"\n",
    "        if a == b == 0:\n",
    "            print(\"green\")\n",
    "            edge_colors[edge] = (0.0, 255.0, 0.0)\n",
    "                \n",
    "    else:\n",
    "        print(\"lightgrey\")\n",
    "        #edge_colors[edge] = 0.5#\"lightgrey\"\n",
    "        \n",
    "##########################################  \n",
    "\n",
    "#Add a property map\n",
    "#edge_color = g.new_edge_property('vector<double>')\n",
    "\"\"\"\n",
    "#Color your edges\n",
    "for e in g.edges():\n",
    "    a = (random.randint(0,9))\n",
    "    b = (random.randint(0,9))\n",
    "    c = (random.randint(0,9))\n",
    "    \n",
    "    #print(a,b,c)\n",
    "    \n",
    "    edge_color[e] = (a/255.0, b/255.0, c/255.0)\n",
    "\"\"\"    \n",
    "#g.edge_properties['edge_Color'] = edge_colors\n",
    "\n",
    "#for i in g.edge_properties['edge_Color']:\n",
    "    #print(i)\n",
    "    \n",
    "\n",
    "#gt.graph_draw(g, pos, vertex_size=5, vertex_fill_color=g.vertex_properties[\"Color\"], edge_color=g.edge_properties['edge_Color'], mplfig=ax)\n",
    "\n",
    "#ax.set_xlabel(\"$x$ coordinate\")\n",
    "#ax.set_ylabel(\"$y$ coordinate\")\n",
    "\n",
    "#plt.show()\n",
    "#fig.savefig(\"gt-mpl2.pdf\")"
   ]
  },
  {
   "cell_type": "code",
   "execution_count": null,
   "id": "naval-invite",
   "metadata": {},
   "outputs": [],
   "source": []
  }
 ],
 "metadata": {
  "kernelspec": {
   "display_name": "Python 3",
   "language": "python",
   "name": "python3"
  },
  "language_info": {
   "codemirror_mode": {
    "name": "ipython",
    "version": 3
   },
   "file_extension": ".py",
   "mimetype": "text/x-python",
   "name": "python",
   "nbconvert_exporter": "python",
   "pygments_lexer": "ipython3",
   "version": "3.9.1"
  }
 },
 "nbformat": 4,
 "nbformat_minor": 5
}
